{
 "cells": [
  {
   "cell_type": "code",
   "execution_count": 1,
   "id": "0dee863b-76f8-4023-8dfb-6dc649ee2dea",
   "metadata": {},
   "outputs": [
    {
     "name": "stderr",
     "output_type": "stream",
     "text": [
      "100%|███████████████████████████████████████████████████████████████████████████████████████████████████████████████████████████████████████████████████████████████████████████████████████████████████████████████████████████████████████████████████████████████████████| 4.17M/4.17M [00:01<00:00, 3.22MB/s]\n"
     ]
    }
   ],
   "source": [
    "from src.data.load_data import load_data\n",
    "train_loader, test_loader = load_data()"
   ]
  },
  {
   "cell_type": "code",
   "execution_count": 4,
   "id": "11659e81-e4b8-466f-b45d-f5313c377902",
   "metadata": {},
   "outputs": [
    {
     "name": "stdout",
     "output_type": "stream",
     "text": [
      "🧪 Test Accuracy: 81.25%\n"
     ]
    }
   ],
   "source": [
    "from src.inference.predict import predict_batch\n",
    "\n",
    "predict_batch()"
   ]
  }
 ],
 "metadata": {
  "kernelspec": {
   "display_name": "Pneumonia Classifier (.venv)",
   "language": "python",
   "name": ".venv"
  },
  "language_info": {
   "codemirror_mode": {
    "name": "ipython",
    "version": 3
   },
   "file_extension": ".py",
   "mimetype": "text/x-python",
   "name": "python",
   "nbconvert_exporter": "python",
   "pygments_lexer": "ipython3",
   "version": "3.13.2"
  }
 },
 "nbformat": 4,
 "nbformat_minor": 5
}
